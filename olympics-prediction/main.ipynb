{
 "cells": [
  {
   "metadata": {
    "collapsed": true,
    "ExecuteTime": {
     "end_time": "2024-08-18T15:14:02.346747Z",
     "start_time": "2024-08-18T15:14:01.708779Z"
    }
   },
   "cell_type": "code",
   "source": [
    "import pandas as pd\n",
    "import matplotlib.pyplot as plt\n",
    "from tensorflow.python.ops.losses.losses_impl import mean_squared_error\n",
    "%matplotlib inline\n",
    "\n",
    "# Read record into dataframe\n",
    "data = pd.read_csv('athlete_events.csv')\n",
    "data.shape # (271116, 15)\n",
    "# data.head()\n",
    "\n",
    "# Only interested in predicting for Summer Olympics\n",
    "data = data[data['Season'] == 'Summer']\n",
    "data.head()"
   ],
   "id": "initial_id",
   "outputs": [
    {
     "data": {
      "text/plain": [
       "    ID                                Name Sex   Age  Height  Weight  \\\n",
       "0    1                           A Dijiang   M  24.0   180.0    80.0   \n",
       "1    2                            A Lamusi   M  23.0   170.0    60.0   \n",
       "2    3                 Gunnar Nielsen Aaby   M  24.0     NaN     NaN   \n",
       "3    4                Edgar Lindenau Aabye   M  34.0     NaN     NaN   \n",
       "26   8  Cornelia \"Cor\" Aalten (-Strannood)   F  18.0   168.0     NaN   \n",
       "\n",
       "              Team  NOC        Games  Year  Season         City       Sport  \\\n",
       "0            China  CHN  1992 Summer  1992  Summer    Barcelona  Basketball   \n",
       "1            China  CHN  2012 Summer  2012  Summer       London        Judo   \n",
       "2          Denmark  DEN  1920 Summer  1920  Summer    Antwerpen    Football   \n",
       "3   Denmark/Sweden  DEN  1900 Summer  1900  Summer        Paris  Tug-Of-War   \n",
       "26     Netherlands  NED  1932 Summer  1932  Summer  Los Angeles   Athletics   \n",
       "\n",
       "                           Event Medal  \n",
       "0    Basketball Men's Basketball   NaN  \n",
       "1   Judo Men's Extra-Lightweight   NaN  \n",
       "2        Football Men's Football   NaN  \n",
       "3    Tug-Of-War Men's Tug-Of-War  Gold  \n",
       "26  Athletics Women's 100 metres   NaN  "
      ],
      "text/html": [
       "<div>\n",
       "<style scoped>\n",
       "    .dataframe tbody tr th:only-of-type {\n",
       "        vertical-align: middle;\n",
       "    }\n",
       "\n",
       "    .dataframe tbody tr th {\n",
       "        vertical-align: top;\n",
       "    }\n",
       "\n",
       "    .dataframe thead th {\n",
       "        text-align: right;\n",
       "    }\n",
       "</style>\n",
       "<table border=\"1\" class=\"dataframe\">\n",
       "  <thead>\n",
       "    <tr style=\"text-align: right;\">\n",
       "      <th></th>\n",
       "      <th>ID</th>\n",
       "      <th>Name</th>\n",
       "      <th>Sex</th>\n",
       "      <th>Age</th>\n",
       "      <th>Height</th>\n",
       "      <th>Weight</th>\n",
       "      <th>Team</th>\n",
       "      <th>NOC</th>\n",
       "      <th>Games</th>\n",
       "      <th>Year</th>\n",
       "      <th>Season</th>\n",
       "      <th>City</th>\n",
       "      <th>Sport</th>\n",
       "      <th>Event</th>\n",
       "      <th>Medal</th>\n",
       "    </tr>\n",
       "  </thead>\n",
       "  <tbody>\n",
       "    <tr>\n",
       "      <th>0</th>\n",
       "      <td>1</td>\n",
       "      <td>A Dijiang</td>\n",
       "      <td>M</td>\n",
       "      <td>24.0</td>\n",
       "      <td>180.0</td>\n",
       "      <td>80.0</td>\n",
       "      <td>China</td>\n",
       "      <td>CHN</td>\n",
       "      <td>1992 Summer</td>\n",
       "      <td>1992</td>\n",
       "      <td>Summer</td>\n",
       "      <td>Barcelona</td>\n",
       "      <td>Basketball</td>\n",
       "      <td>Basketball Men's Basketball</td>\n",
       "      <td>NaN</td>\n",
       "    </tr>\n",
       "    <tr>\n",
       "      <th>1</th>\n",
       "      <td>2</td>\n",
       "      <td>A Lamusi</td>\n",
       "      <td>M</td>\n",
       "      <td>23.0</td>\n",
       "      <td>170.0</td>\n",
       "      <td>60.0</td>\n",
       "      <td>China</td>\n",
       "      <td>CHN</td>\n",
       "      <td>2012 Summer</td>\n",
       "      <td>2012</td>\n",
       "      <td>Summer</td>\n",
       "      <td>London</td>\n",
       "      <td>Judo</td>\n",
       "      <td>Judo Men's Extra-Lightweight</td>\n",
       "      <td>NaN</td>\n",
       "    </tr>\n",
       "    <tr>\n",
       "      <th>2</th>\n",
       "      <td>3</td>\n",
       "      <td>Gunnar Nielsen Aaby</td>\n",
       "      <td>M</td>\n",
       "      <td>24.0</td>\n",
       "      <td>NaN</td>\n",
       "      <td>NaN</td>\n",
       "      <td>Denmark</td>\n",
       "      <td>DEN</td>\n",
       "      <td>1920 Summer</td>\n",
       "      <td>1920</td>\n",
       "      <td>Summer</td>\n",
       "      <td>Antwerpen</td>\n",
       "      <td>Football</td>\n",
       "      <td>Football Men's Football</td>\n",
       "      <td>NaN</td>\n",
       "    </tr>\n",
       "    <tr>\n",
       "      <th>3</th>\n",
       "      <td>4</td>\n",
       "      <td>Edgar Lindenau Aabye</td>\n",
       "      <td>M</td>\n",
       "      <td>34.0</td>\n",
       "      <td>NaN</td>\n",
       "      <td>NaN</td>\n",
       "      <td>Denmark/Sweden</td>\n",
       "      <td>DEN</td>\n",
       "      <td>1900 Summer</td>\n",
       "      <td>1900</td>\n",
       "      <td>Summer</td>\n",
       "      <td>Paris</td>\n",
       "      <td>Tug-Of-War</td>\n",
       "      <td>Tug-Of-War Men's Tug-Of-War</td>\n",
       "      <td>Gold</td>\n",
       "    </tr>\n",
       "    <tr>\n",
       "      <th>26</th>\n",
       "      <td>8</td>\n",
       "      <td>Cornelia \"Cor\" Aalten (-Strannood)</td>\n",
       "      <td>F</td>\n",
       "      <td>18.0</td>\n",
       "      <td>168.0</td>\n",
       "      <td>NaN</td>\n",
       "      <td>Netherlands</td>\n",
       "      <td>NED</td>\n",
       "      <td>1932 Summer</td>\n",
       "      <td>1932</td>\n",
       "      <td>Summer</td>\n",
       "      <td>Los Angeles</td>\n",
       "      <td>Athletics</td>\n",
       "      <td>Athletics Women's 100 metres</td>\n",
       "      <td>NaN</td>\n",
       "    </tr>\n",
       "  </tbody>\n",
       "</table>\n",
       "</div>"
      ]
     },
     "execution_count": 182,
     "metadata": {},
     "output_type": "execute_result"
    }
   ],
   "execution_count": 182
  },
  {
   "metadata": {
    "ExecuteTime": {
     "end_time": "2024-08-18T15:14:02.418070Z",
     "start_time": "2024-08-18T15:14:02.405236Z"
    }
   },
   "cell_type": "code",
   "source": [
    "# Read NOC Region csv to df\n",
    "noc_regions = pd.read_csv('noc_regions.csv')\n",
    "noc_regions.shape # (230, 3)\n",
    "noc_regions.head()"
   ],
   "id": "e29e9fc68e40866f",
   "outputs": [
    {
     "data": {
      "text/plain": [
       "   NOC       region                 notes\n",
       "0  AFG  Afghanistan                   NaN\n",
       "1  AHO      Curacao  Netherlands Antilles\n",
       "2  ALB      Albania                   NaN\n",
       "3  ALG      Algeria                   NaN\n",
       "4  AND      Andorra                   NaN"
      ],
      "text/html": [
       "<div>\n",
       "<style scoped>\n",
       "    .dataframe tbody tr th:only-of-type {\n",
       "        vertical-align: middle;\n",
       "    }\n",
       "\n",
       "    .dataframe tbody tr th {\n",
       "        vertical-align: top;\n",
       "    }\n",
       "\n",
       "    .dataframe thead th {\n",
       "        text-align: right;\n",
       "    }\n",
       "</style>\n",
       "<table border=\"1\" class=\"dataframe\">\n",
       "  <thead>\n",
       "    <tr style=\"text-align: right;\">\n",
       "      <th></th>\n",
       "      <th>NOC</th>\n",
       "      <th>region</th>\n",
       "      <th>notes</th>\n",
       "    </tr>\n",
       "  </thead>\n",
       "  <tbody>\n",
       "    <tr>\n",
       "      <th>0</th>\n",
       "      <td>AFG</td>\n",
       "      <td>Afghanistan</td>\n",
       "      <td>NaN</td>\n",
       "    </tr>\n",
       "    <tr>\n",
       "      <th>1</th>\n",
       "      <td>AHO</td>\n",
       "      <td>Curacao</td>\n",
       "      <td>Netherlands Antilles</td>\n",
       "    </tr>\n",
       "    <tr>\n",
       "      <th>2</th>\n",
       "      <td>ALB</td>\n",
       "      <td>Albania</td>\n",
       "      <td>NaN</td>\n",
       "    </tr>\n",
       "    <tr>\n",
       "      <th>3</th>\n",
       "      <td>ALG</td>\n",
       "      <td>Algeria</td>\n",
       "      <td>NaN</td>\n",
       "    </tr>\n",
       "    <tr>\n",
       "      <th>4</th>\n",
       "      <td>AND</td>\n",
       "      <td>Andorra</td>\n",
       "      <td>NaN</td>\n",
       "    </tr>\n",
       "  </tbody>\n",
       "</table>\n",
       "</div>"
      ]
     },
     "execution_count": 183,
     "metadata": {},
     "output_type": "execute_result"
    }
   ],
   "execution_count": 183
  },
  {
   "metadata": {
    "ExecuteTime": {
     "end_time": "2024-08-18T15:14:02.631753Z",
     "start_time": "2024-08-18T15:14:02.558285Z"
    }
   },
   "cell_type": "code",
   "source": [
    "# Merge the two dataframes on NOC col\n",
    "merged_data = data.merge(noc_regions, how='left', on='NOC')\n",
    "merged_data.head()"
   ],
   "id": "46b470c9e9d2d713",
   "outputs": [
    {
     "data": {
      "text/plain": [
       "   ID                                Name Sex   Age  Height  Weight  \\\n",
       "0   1                           A Dijiang   M  24.0   180.0    80.0   \n",
       "1   2                            A Lamusi   M  23.0   170.0    60.0   \n",
       "2   3                 Gunnar Nielsen Aaby   M  24.0     NaN     NaN   \n",
       "3   4                Edgar Lindenau Aabye   M  34.0     NaN     NaN   \n",
       "4   8  Cornelia \"Cor\" Aalten (-Strannood)   F  18.0   168.0     NaN   \n",
       "\n",
       "             Team  NOC        Games  Year  Season         City       Sport  \\\n",
       "0           China  CHN  1992 Summer  1992  Summer    Barcelona  Basketball   \n",
       "1           China  CHN  2012 Summer  2012  Summer       London        Judo   \n",
       "2         Denmark  DEN  1920 Summer  1920  Summer    Antwerpen    Football   \n",
       "3  Denmark/Sweden  DEN  1900 Summer  1900  Summer        Paris  Tug-Of-War   \n",
       "4     Netherlands  NED  1932 Summer  1932  Summer  Los Angeles   Athletics   \n",
       "\n",
       "                          Event Medal       region notes  \n",
       "0   Basketball Men's Basketball   NaN        China   NaN  \n",
       "1  Judo Men's Extra-Lightweight   NaN        China   NaN  \n",
       "2       Football Men's Football   NaN      Denmark   NaN  \n",
       "3   Tug-Of-War Men's Tug-Of-War  Gold      Denmark   NaN  \n",
       "4  Athletics Women's 100 metres   NaN  Netherlands   NaN  "
      ],
      "text/html": [
       "<div>\n",
       "<style scoped>\n",
       "    .dataframe tbody tr th:only-of-type {\n",
       "        vertical-align: middle;\n",
       "    }\n",
       "\n",
       "    .dataframe tbody tr th {\n",
       "        vertical-align: top;\n",
       "    }\n",
       "\n",
       "    .dataframe thead th {\n",
       "        text-align: right;\n",
       "    }\n",
       "</style>\n",
       "<table border=\"1\" class=\"dataframe\">\n",
       "  <thead>\n",
       "    <tr style=\"text-align: right;\">\n",
       "      <th></th>\n",
       "      <th>ID</th>\n",
       "      <th>Name</th>\n",
       "      <th>Sex</th>\n",
       "      <th>Age</th>\n",
       "      <th>Height</th>\n",
       "      <th>Weight</th>\n",
       "      <th>Team</th>\n",
       "      <th>NOC</th>\n",
       "      <th>Games</th>\n",
       "      <th>Year</th>\n",
       "      <th>Season</th>\n",
       "      <th>City</th>\n",
       "      <th>Sport</th>\n",
       "      <th>Event</th>\n",
       "      <th>Medal</th>\n",
       "      <th>region</th>\n",
       "      <th>notes</th>\n",
       "    </tr>\n",
       "  </thead>\n",
       "  <tbody>\n",
       "    <tr>\n",
       "      <th>0</th>\n",
       "      <td>1</td>\n",
       "      <td>A Dijiang</td>\n",
       "      <td>M</td>\n",
       "      <td>24.0</td>\n",
       "      <td>180.0</td>\n",
       "      <td>80.0</td>\n",
       "      <td>China</td>\n",
       "      <td>CHN</td>\n",
       "      <td>1992 Summer</td>\n",
       "      <td>1992</td>\n",
       "      <td>Summer</td>\n",
       "      <td>Barcelona</td>\n",
       "      <td>Basketball</td>\n",
       "      <td>Basketball Men's Basketball</td>\n",
       "      <td>NaN</td>\n",
       "      <td>China</td>\n",
       "      <td>NaN</td>\n",
       "    </tr>\n",
       "    <tr>\n",
       "      <th>1</th>\n",
       "      <td>2</td>\n",
       "      <td>A Lamusi</td>\n",
       "      <td>M</td>\n",
       "      <td>23.0</td>\n",
       "      <td>170.0</td>\n",
       "      <td>60.0</td>\n",
       "      <td>China</td>\n",
       "      <td>CHN</td>\n",
       "      <td>2012 Summer</td>\n",
       "      <td>2012</td>\n",
       "      <td>Summer</td>\n",
       "      <td>London</td>\n",
       "      <td>Judo</td>\n",
       "      <td>Judo Men's Extra-Lightweight</td>\n",
       "      <td>NaN</td>\n",
       "      <td>China</td>\n",
       "      <td>NaN</td>\n",
       "    </tr>\n",
       "    <tr>\n",
       "      <th>2</th>\n",
       "      <td>3</td>\n",
       "      <td>Gunnar Nielsen Aaby</td>\n",
       "      <td>M</td>\n",
       "      <td>24.0</td>\n",
       "      <td>NaN</td>\n",
       "      <td>NaN</td>\n",
       "      <td>Denmark</td>\n",
       "      <td>DEN</td>\n",
       "      <td>1920 Summer</td>\n",
       "      <td>1920</td>\n",
       "      <td>Summer</td>\n",
       "      <td>Antwerpen</td>\n",
       "      <td>Football</td>\n",
       "      <td>Football Men's Football</td>\n",
       "      <td>NaN</td>\n",
       "      <td>Denmark</td>\n",
       "      <td>NaN</td>\n",
       "    </tr>\n",
       "    <tr>\n",
       "      <th>3</th>\n",
       "      <td>4</td>\n",
       "      <td>Edgar Lindenau Aabye</td>\n",
       "      <td>M</td>\n",
       "      <td>34.0</td>\n",
       "      <td>NaN</td>\n",
       "      <td>NaN</td>\n",
       "      <td>Denmark/Sweden</td>\n",
       "      <td>DEN</td>\n",
       "      <td>1900 Summer</td>\n",
       "      <td>1900</td>\n",
       "      <td>Summer</td>\n",
       "      <td>Paris</td>\n",
       "      <td>Tug-Of-War</td>\n",
       "      <td>Tug-Of-War Men's Tug-Of-War</td>\n",
       "      <td>Gold</td>\n",
       "      <td>Denmark</td>\n",
       "      <td>NaN</td>\n",
       "    </tr>\n",
       "    <tr>\n",
       "      <th>4</th>\n",
       "      <td>8</td>\n",
       "      <td>Cornelia \"Cor\" Aalten (-Strannood)</td>\n",
       "      <td>F</td>\n",
       "      <td>18.0</td>\n",
       "      <td>168.0</td>\n",
       "      <td>NaN</td>\n",
       "      <td>Netherlands</td>\n",
       "      <td>NED</td>\n",
       "      <td>1932 Summer</td>\n",
       "      <td>1932</td>\n",
       "      <td>Summer</td>\n",
       "      <td>Los Angeles</td>\n",
       "      <td>Athletics</td>\n",
       "      <td>Athletics Women's 100 metres</td>\n",
       "      <td>NaN</td>\n",
       "      <td>Netherlands</td>\n",
       "      <td>NaN</td>\n",
       "    </tr>\n",
       "  </tbody>\n",
       "</table>\n",
       "</div>"
      ]
     },
     "execution_count": 184,
     "metadata": {},
     "output_type": "execute_result"
    }
   ],
   "execution_count": 184
  },
  {
   "metadata": {
    "ExecuteTime": {
     "end_time": "2024-08-18T15:14:02.772982Z",
     "start_time": "2024-08-18T15:14:02.764809Z"
    }
   },
   "cell_type": "code",
   "source": [
    "# Find out the earliest and the latest year of the record\n",
    "year_data = data['Year']\n",
    "year_data.head()\n",
    "\n",
    "max_year = year_data.max()\n",
    "min_year = year_data.min()\n",
    "\n",
    "distinct_year_list = year_data.unique().tolist()\n",
    "distinct_year_list = sorted(distinct_year_list)\n",
    "print(f'max_year: {max_year}')\n",
    "print(f'min_year: {min_year}')\n",
    "print(f'total number of years: {max_year - min_year}')\n",
    "print(f'distinct_year_list: {distinct_year_list}')\n"
   ],
   "id": "b0f0951c630fd872",
   "outputs": [
    {
     "name": "stdout",
     "output_type": "stream",
     "text": [
      "max_year: 2016\n",
      "min_year: 1896\n",
      "total number of years: 120\n",
      "distinct_year_list: [1896, 1900, 1904, 1906, 1908, 1912, 1920, 1924, 1928, 1932, 1936, 1948, 1952, 1956, 1960, 1964, 1968, 1972, 1976, 1980, 1984, 1988, 1992, 1996, 2000, 2004, 2008, 2012, 2016]\n"
     ]
    }
   ],
   "execution_count": 185
  },
  {
   "metadata": {
    "ExecuteTime": {
     "end_time": "2024-08-18T15:14:03.008189Z",
     "start_time": "2024-08-18T15:14:02.997428Z"
    }
   },
   "cell_type": "code",
   "source": [
    "# Find out the distinct values of medal\n",
    "distinct_medals = data['Medal'].unique()\n",
    "print(distinct_medals)"
   ],
   "id": "f06e9ea8f57ee93a",
   "outputs": [
    {
     "name": "stdout",
     "output_type": "stream",
     "text": [
      "[nan 'Gold' 'Bronze' 'Silver']\n"
     ]
    }
   ],
   "execution_count": 186
  },
  {
   "metadata": {
    "ExecuteTime": {
     "end_time": "2024-08-18T15:14:03.398213Z",
     "start_time": "2024-08-18T15:14:03.331769Z"
    }
   },
   "cell_type": "code",
   "source": [
    "# Get the total number of gold, for the USA for each year\n",
    "# 01 - Note that for team event, there is 1 gold medal to each team member\n",
    "# 02 - Therefore, we have to partition by year and event -> count each unique event as 1 gold\n",
    "usa_gold_medals = merged_data[(merged_data['Team'] == 'United States') & (merged_data['Medal'] == 'Gold')]\n",
    "usa_gold_medal_count = usa_gold_medals.groupby(by=['Year', 'Event']).size().reset_index(name='Gold Medals')\n",
    "usa_gold_medal_count_per_year = usa_gold_medal_count.groupby('Year')['Gold Medals'].size().reset_index(name='Gold Medals')\n",
    "usa_gold_medal_count_per_year = usa_gold_medal_count_per_year.sort_values(by='Year', ascending=False)\n",
    "usa_gold_medal_count_per_year.head()"
   ],
   "id": "12857db412d8b58e",
   "outputs": [
    {
     "data": {
      "text/plain": [
       "    Year  Gold Medals\n",
       "27  2016           45\n",
       "26  2012           43\n",
       "25  2008           33\n",
       "24  2004           35\n",
       "23  2000           35"
      ],
      "text/html": [
       "<div>\n",
       "<style scoped>\n",
       "    .dataframe tbody tr th:only-of-type {\n",
       "        vertical-align: middle;\n",
       "    }\n",
       "\n",
       "    .dataframe tbody tr th {\n",
       "        vertical-align: top;\n",
       "    }\n",
       "\n",
       "    .dataframe thead th {\n",
       "        text-align: right;\n",
       "    }\n",
       "</style>\n",
       "<table border=\"1\" class=\"dataframe\">\n",
       "  <thead>\n",
       "    <tr style=\"text-align: right;\">\n",
       "      <th></th>\n",
       "      <th>Year</th>\n",
       "      <th>Gold Medals</th>\n",
       "    </tr>\n",
       "  </thead>\n",
       "  <tbody>\n",
       "    <tr>\n",
       "      <th>27</th>\n",
       "      <td>2016</td>\n",
       "      <td>45</td>\n",
       "    </tr>\n",
       "    <tr>\n",
       "      <th>26</th>\n",
       "      <td>2012</td>\n",
       "      <td>43</td>\n",
       "    </tr>\n",
       "    <tr>\n",
       "      <th>25</th>\n",
       "      <td>2008</td>\n",
       "      <td>33</td>\n",
       "    </tr>\n",
       "    <tr>\n",
       "      <th>24</th>\n",
       "      <td>2004</td>\n",
       "      <td>35</td>\n",
       "    </tr>\n",
       "    <tr>\n",
       "      <th>23</th>\n",
       "      <td>2000</td>\n",
       "      <td>35</td>\n",
       "    </tr>\n",
       "  </tbody>\n",
       "</table>\n",
       "</div>"
      ]
     },
     "execution_count": 187,
     "metadata": {},
     "output_type": "execute_result"
    }
   ],
   "execution_count": 187
  },
  {
   "metadata": {
    "ExecuteTime": {
     "end_time": "2024-08-18T15:14:03.643502Z",
     "start_time": "2024-08-18T15:14:03.605685Z"
    }
   },
   "cell_type": "code",
   "source": [
    "# Get the total number of gold, for China for each year\n",
    "china_gold_medals = merged_data[(merged_data['Team'] == 'China') & (merged_data['Medal'] == 'Gold')]\n",
    "china_gold_medal_count = china_gold_medals.groupby(by=['Year', 'Event']).size().reset_index(name='Gold Medals')\n",
    "china_gold_medal_count_per_year = china_gold_medal_count.groupby('Year')['Gold Medals'].size().reset_index(name='Gold Medals')\n",
    "china_gold_medal_count_per_year = china_gold_medal_count_per_year.sort_values(by='Year', ascending=False)\n",
    "china_gold_medal_count_per_year.head()"
   ],
   "id": "c7a24650296cef19",
   "outputs": [
    {
     "data": {
      "text/plain": [
       "   Year  Gold Medals\n",
       "8  2016           25\n",
       "7  2012           35\n",
       "6  2008           50\n",
       "5  2004           27\n",
       "4  2000           24"
      ],
      "text/html": [
       "<div>\n",
       "<style scoped>\n",
       "    .dataframe tbody tr th:only-of-type {\n",
       "        vertical-align: middle;\n",
       "    }\n",
       "\n",
       "    .dataframe tbody tr th {\n",
       "        vertical-align: top;\n",
       "    }\n",
       "\n",
       "    .dataframe thead th {\n",
       "        text-align: right;\n",
       "    }\n",
       "</style>\n",
       "<table border=\"1\" class=\"dataframe\">\n",
       "  <thead>\n",
       "    <tr style=\"text-align: right;\">\n",
       "      <th></th>\n",
       "      <th>Year</th>\n",
       "      <th>Gold Medals</th>\n",
       "    </tr>\n",
       "  </thead>\n",
       "  <tbody>\n",
       "    <tr>\n",
       "      <th>8</th>\n",
       "      <td>2016</td>\n",
       "      <td>25</td>\n",
       "    </tr>\n",
       "    <tr>\n",
       "      <th>7</th>\n",
       "      <td>2012</td>\n",
       "      <td>35</td>\n",
       "    </tr>\n",
       "    <tr>\n",
       "      <th>6</th>\n",
       "      <td>2008</td>\n",
       "      <td>50</td>\n",
       "    </tr>\n",
       "    <tr>\n",
       "      <th>5</th>\n",
       "      <td>2004</td>\n",
       "      <td>27</td>\n",
       "    </tr>\n",
       "    <tr>\n",
       "      <th>4</th>\n",
       "      <td>2000</td>\n",
       "      <td>24</td>\n",
       "    </tr>\n",
       "  </tbody>\n",
       "</table>\n",
       "</div>"
      ]
     },
     "execution_count": 188,
     "metadata": {},
     "output_type": "execute_result"
    }
   ],
   "execution_count": 188
  },
  {
   "metadata": {
    "ExecuteTime": {
     "end_time": "2024-08-18T15:14:04.167063Z",
     "start_time": "2024-08-18T15:14:03.853844Z"
    }
   },
   "cell_type": "code",
   "source": [
    "# Plot the existing data for visualization \n",
    "plt.figure(figsize=(10, 6))\n",
    "\n",
    "plt.scatter(usa_gold_medal_count_per_year['Year'], usa_gold_medal_count_per_year['Gold Medals'], color='blue', label='USA')\n",
    "plt.scatter(china_gold_medal_count_per_year['Year'], china_gold_medal_count_per_year['Gold Medals'], color='red', label='China')\n",
    "\n",
    "plt.xlabel('Year')\n",
    "plt.ylabel('Number of Gold Medals')\n",
    "plt.title('Number of Gold Medals Over Years for USA and China')\n",
    "plt.legend()\n",
    "plt.grid(True)\n",
    "plt.show()"
   ],
   "id": "fa677e29de650144",
   "outputs": [
    {
     "data": {
      "text/plain": [
       "<Figure size 1000x600 with 1 Axes>"
      ],
      "image/png": "[encoded data removed]"
     },
     "metadata": {},
     "output_type": "display_data"
    }
   ],
   "execution_count": 189
  },
  {
   "metadata": {
    "ExecuteTime": {
     "end_time": "2024-08-18T15:14:04.343229Z",
     "start_time": "2024-08-18T15:14:04.332846Z"
    }
   },
   "cell_type": "code",
   "source": [
    "from sklearn.model_selection import train_test_split\n",
    "import numpy as np\n",
    "from sklearn.metrics import mean_squared_error\n",
    "\n",
    "# Prepare and split the data for USA\n",
    "X_usa = usa_gold_medal_count_per_year[['Year']].values\n",
    "y_usa = usa_gold_medal_count_per_year['Gold Medals'].values\n",
    "X_usa_train, X_usa_test, y_usa_train, y_usa_test = train_test_split(X_usa, y_usa, test_size=0.2, random_state=42)\n",
    "\n",
    "# Prepare and split the data for China\n",
    "X_china = china_gold_medal_count_per_year[['Year']].values\n",
    "y_china = china_gold_medal_count_per_year['Gold Medals'].values \n",
    "X_china_train, X_china_test, y_china_train, y_china_test = train_test_split(X_china, y_china, test_size=0.2, random_state=42)"
   ],
   "id": "6e85c1ccbf6a70be",
   "outputs": [],
   "execution_count": 190
  },
  {
   "metadata": {
    "ExecuteTime": {
     "end_time": "2024-08-18T15:14:04.436269Z",
     "start_time": "2024-08-18T15:14:04.429099Z"
    }
   },
   "cell_type": "code",
   "source": [
    "from utils import compute_cost\n",
    "\n",
    "# 1 - Linear Regression - Manual Implementation\n",
    "# 1.1 - Compute cost with some initial values for parameters w, b\n",
    "initial_w = 2\n",
    "initial_b = 1\n",
    "\n",
    "cost_usa = compute_cost(X_usa_train, y_usa_train, initial_w, initial_b)\n",
    "print(f'cost_usa: {cost_usa}')\n",
    "\n",
    "cost_china = compute_cost(X_china_train, y_china_train, initial_w, initial_b)\n",
    "print(f'cost_china: {cost_china}')"
   ],
   "id": "cd64da2a04a58504",
   "outputs": [
    {
     "name": "stdout",
     "output_type": "stream",
     "text": [
      "cost_usa: [7522843.72727273]\n",
      "cost_china: [7908383.07142857]\n"
     ]
    }
   ],
   "execution_count": 191
  },
  {
   "metadata": {
    "ExecuteTime": {
     "end_time": "2024-08-18T15:14:04.733902Z",
     "start_time": "2024-08-18T15:14:04.726307Z"
    }
   },
   "cell_type": "code",
   "source": [
    "from utils import compute_gradient\n",
    "\n",
    "# 1.2 - Compute gradient\n",
    "initial_w = 0\n",
    "initial_b = 0\n",
    "\n",
    "tmp_dj_dw_usa, tmp_dj_db_usa = compute_gradient(X_usa_train, y_usa_train, initial_w, initial_b)\n",
    "print('USA - Gradient at initial w, b (zeros):', tmp_dj_dw_usa, tmp_dj_db_usa)\n",
    "\n",
    "tmp_dj_dw_china, tmp_dj_db_china = compute_gradient(X_china_train, y_china_train, initial_w, initial_b)\n",
    "print('China - Gradient at initial w, b (zeros):', tmp_dj_dw_china, tmp_dj_db_china)"
   ],
   "id": "dc33d3fa896d719c",
   "outputs": [
    {
     "name": "stdout",
     "output_type": "stream",
     "text": [
      "USA - Gradient at initial w, b (zeros): [-62078.72727273] [-31.63636364]\n",
      "China - Gradient at initial w, b (zeros): [-48072.] [-24.]\n"
     ]
    }
   ],
   "execution_count": 192
  },
  {
   "metadata": {
    "ExecuteTime": {
     "end_time": "2024-08-18T15:14:04.910694Z",
     "start_time": "2024-08-18T15:14:04.901332Z"
    }
   },
   "cell_type": "code",
   "source": [
    "from importlib import reload\n",
    "import utils\n",
    "\n",
    "# To reload utils as we are making changes to the functions in utils\n",
    "reload(utils)"
   ],
   "id": "d293e7ef8c0868e5",
   "outputs": [
    {
     "data": {
      "text/plain": [
       "<module 'utils' from '/Users/limzhengyang/Desktop/ml-playground/olympics-prediction/utils.py'>"
      ]
     },
     "execution_count": 193,
     "metadata": {},
     "output_type": "execute_result"
    }
   ],
   "execution_count": 193
  },
  {
   "metadata": {
    "ExecuteTime": {
     "end_time": "2024-08-18T15:14:10.179533Z",
     "start_time": "2024-08-18T15:14:05.051472Z"
    }
   },
   "cell_type": "code",
   "source": [
    "from utils import gradient_descent\n",
    "import math\n",
    "from sklearn.preprocessing import StandardScaler\n",
    "\n",
    "# 1.3 - Scale features\n",
    "scaler_usa = StandardScaler()\n",
    "X_usa_train_scaled = scaler_usa.fit_transform(X_usa_train.reshape(-1, 1))\n",
    "\n",
    "scaler_china = StandardScaler()\n",
    "X_china_train_scaled = scaler_china.fit_transform(X_china_train.reshape(-1, 1))\n",
    "\n",
    "# 1.4 - Batch gradient descent\n",
    "initial_w = 0.\n",
    "initial_b = 0.\n",
    "\n",
    "iterations = 10000\n",
    "alpha = 0.01\n",
    "\n",
    "w_usa, b_usa, _, _ = gradient_descent(X_usa_train_scaled, y_usa_train, initial_w, initial_b, \n",
    "                                      compute_cost, compute_gradient, alpha, iterations)\n",
    "print(f'w_usa,b_usa found by gradient descent:, {w_usa}, {b_usa}')\n",
    "\n",
    "w_china, b_china, _, _ = gradient_descent(X_china_train_scaled, y_china_train, initial_w, initial_b, \n",
    "                                          compute_cost, compute_gradient, alpha, iterations)\n",
    "print(f'w_china,b_china found by gradient descent:, {w_china}, {b_china}')"
   ],
   "id": "a129b7e6aaa27783",
   "outputs": [
    {
     "name": "stdout",
     "output_type": "stream",
     "text": [
      "w_usa,b_usa found by gradient descent:, [6.60884743], [31.63636364]\n",
      "w_china,b_china found by gradient descent:, [7.34846923], [24.]\n"
     ]
    }
   ],
   "execution_count": 194
  },
  {
   "metadata": {
    "ExecuteTime": {
     "end_time": "2024-08-18T15:14:11.917001Z",
     "start_time": "2024-08-18T15:14:11.510370Z"
    }
   },
   "cell_type": "code",
   "source": [
    "# 1.5 - Use final parameters from gradient descent to plot linear fit\n",
    "m_usa = X_usa_train.shape[0]\n",
    "predicted_usa = np.zeros(m_usa)\n",
    "\n",
    "for i in range(m_usa):\n",
    "    predicted_usa[i] = w_usa * X_usa_train_scaled[i] + b_usa\n",
    "\n",
    "m_china = X_china_train.shape[0]\n",
    "predicted_china = np.zeros(m_china)\n",
    "\n",
    "for i in range(m_china):\n",
    "    predicted_china[i] = w_china * X_china_train_scaled[i] + b_china\n",
    "    \n",
    "# Plot the linear fit - USA\n",
    "plt.plot(X_usa_train, predicted_usa, color= \"blue\", label='USA Predicted Data')\n",
    "\n",
    "# Create a scatter plot of the data. \n",
    "plt.scatter(X_usa_train, y_usa_train, marker='x', color='red', label='USA Historical Data') \n",
    "\n",
    "plt.title(\"USA Gold\")\n",
    "plt.ylabel('Number of Gold Medals')\n",
    "plt.xlabel('Year')\n",
    "plt.legend()\n",
    "plt.grid(True)\n",
    "\n",
    "# Plot the linear fit - China\n",
    "plt.plot(X_china_train, predicted_china, color='yellow', label='China Predicted Data')\n",
    "\n",
    "# Create a scatter plot of the data. \n",
    "plt.scatter(X_china_train, y_china_train, marker='x', color='green', label='China Historical Data') \n",
    "\n",
    "plt.title(\"USA Gold\")\n",
    "plt.ylabel('Number of Gold Medals')\n",
    "plt.xlabel('Year')\n",
    "plt.legend()\n",
    "plt.grid(True)"
   ],
   "id": "b7d936cce3e4b538",
   "outputs": [
    {
     "name": "stderr",
     "output_type": "stream",
     "text": [
      "/var/folders/w7/bnb_cjt16px5nlp218wwd25w0000gn/T/ipykernel_11108/775433510.py:6: DeprecationWarning: Conversion of an array with ndim > 0 to a scalar is deprecated, and will error in future. Ensure you extract a single element from your array before performing this operation. (Deprecated NumPy 1.25.)\n",
      "  predicted_usa[i] = w_usa * X_usa_train_scaled[i] + b_usa\n",
      "/var/folders/w7/bnb_cjt16px5nlp218wwd25w0000gn/T/ipykernel_11108/775433510.py:12: DeprecationWarning: Conversion of an array with ndim > 0 to a scalar is deprecated, and will error in future. Ensure you extract a single element from your array before performing this operation. (Deprecated NumPy 1.25.)\n",
      "  predicted_china[i] = w_china * X_china_train_scaled[i] + b_china\n"
     ]
    },
    {
     "data": {
      "text/plain": [
       "<Figure size 640x480 with 1 Axes>"
      ],
      "image/png": "[encoded data removed]"
     },
     "metadata": {},
     "output_type": "display_data"
    }
   ],
   "execution_count": 195
  },
  {
   "metadata": {
    "ExecuteTime": {
     "end_time": "2024-08-18T15:14:12.208049Z",
     "start_time": "2024-08-18T15:14:12.200157Z"
    }
   },
   "cell_type": "code",
   "source": [
    "# 1.6 - Predict the number of gold won by USA and China in 2050\n",
    "year_2050_scaled = scaler_usa.transform([[2050]])\n",
    "prediction_usa = year_2050_scaled[0] * w_usa + b_usa\n",
    "usa_2030_prediction_manual_impl = round(prediction_usa[0])\n",
    "print(f'Predicted number of gold won by USA: {usa_2030_prediction_manual_impl}')\n",
    "\n",
    "year_2050_scaled_china = scaler_china.transform([[2050]])\n",
    "prediction_china = year_2050_scaled_china[0] * w_china + b_china\n",
    "china_2030_prediction_manual_impl = round(prediction_china[0])\n",
    "print(f'Predicted number of gold won by China: {china_2030_prediction_manual_impl}')"
   ],
   "id": "e50e4b8b4f5b2cf2",
   "outputs": [
    {
     "name": "stdout",
     "output_type": "stream",
     "text": [
      "Predicted number of gold won by USA: 49\n",
      "Predicted number of gold won by China: 61\n"
     ]
    }
   ],
   "execution_count": 196
  },
  {
   "metadata": {
    "ExecuteTime": {
     "end_time": "2024-08-18T15:14:12.529363Z",
     "start_time": "2024-08-18T15:14:12.521414Z"
    }
   },
   "cell_type": "code",
   "source": [
    "from sklearn.linear_model import LinearRegression\n",
    "\n",
    "# 2 - Linear Regression - SKLearn\n",
    "# 2.1 - Initialize the linear regression model\n",
    "linear_regression_model_usa = LinearRegression().fit(X_usa_train, y_usa_train)\n",
    "linear_regression_model_china = LinearRegression().fit(X_china_train, y_china_train)"
   ],
   "id": "d9160ceffedaa7e1",
   "outputs": [],
   "execution_count": 197
  },
  {
   "metadata": {
    "ExecuteTime": {
     "end_time": "2024-08-18T15:14:12.718198Z",
     "start_time": "2024-08-18T15:14:12.706277Z"
    }
   },
   "cell_type": "code",
   "source": [
    "# 2.2 - Define future range of years for prediction\n",
    "future_years = np.arange(2017, 2031).reshape(-1, 1)\n",
    "\n",
    "# 2.3 - Make predictions\n",
    "usa_predictions = linear_regression_model_usa.predict(future_years)\n",
    "china_predictions = linear_regression_model_china.predict(future_years)\n",
    "\n",
    "# 2.4 - Create dataframes for future predictions\n",
    "future_usa_df = pd.DataFrame({'Year': future_years.flatten(), 'Predicted Gold Medals (USA)': usa_predictions})\n",
    "future_china_df = pd.DataFrame({'Year': future_years.flatten(), 'Predicted Gold Medals (China)': china_predictions})\n",
    "\n",
    "future_usa_df.sort_values(by='Year', ascending=False).head()\n",
    "future_china_df.sort_values(by='Year', ascending=False).head()\n",
    "\n",
    "usa_2030_prediction = future_usa_df.loc[future_usa_df['Year'] == 2030, 'Predicted Gold Medals (USA)'].values\n",
    "china_2030_prediction = future_china_df.loc[future_usa_df['Year'] == 2030, 'Predicted Gold Medals (China)'].values\n",
    "\n",
    "usa_2030_prediction_sklearn = round(usa_2030_prediction[0])\n",
    "china_2030_prediction_sklearn = round(china_2030_prediction[0])\n",
    "print(f'Predicted number of gold by USA in 2030: {usa_2030_prediction_sklearn}')\n",
    "print(f'Predicted number of gold by China in 2030: {china_2030_prediction_sklearn}')\n"
   ],
   "id": "797d4023406f4448",
   "outputs": [
    {
     "name": "stdout",
     "output_type": "stream",
     "text": [
      "Predicted number of gold by USA in 2030: 45\n",
      "Predicted number of gold by China in 2030: 46\n"
     ]
    }
   ],
   "execution_count": 198
  },
  {
   "metadata": {
    "ExecuteTime": {
     "end_time": "2024-08-18T15:14:13.026269Z",
     "start_time": "2024-08-18T15:14:13.018249Z"
    }
   },
   "cell_type": "code",
   "source": [
    "# 2.5 - Evaluation\n",
    "y_pred_usa = linear_regression_model_usa.predict(X_usa_test)\n",
    "mean_squared_error_usa = mean_squared_error(y_usa_test, y_pred_usa)\n",
    "print(\"Mean Squared Error for USA:\", mean_squared_error_usa)\n",
    "\n",
    "y_pred_china = linear_regression_model_china.predict(X_china_test)\n",
    "mean_squared_error_china = mean_squared_error(y_china_test, y_pred_china)\n",
    "print(\"Mean Squared Error for China:\", mean_squared_error_china)\n"
   ],
   "id": "18f9c5cf503a3ec3",
   "outputs": [
    {
     "name": "stdout",
     "output_type": "stream",
     "text": [
      "Mean Squared Error for USA: 652.4878715084494\n",
      "Mean Squared Error for China: 62.5\n"
     ]
    }
   ],
   "execution_count": 199
  },
  {
   "metadata": {
    "ExecuteTime": {
     "end_time": "2024-08-18T15:15:03.244739Z",
     "start_time": "2024-08-18T15:15:02.910935Z"
    }
   },
   "cell_type": "code",
   "source": [
    "import matplotlib.pyplot as plt\n",
    "\n",
    "# 2.6 - Plot historical data and predictions for USA\n",
    "plt.figure(figsize=(14, 7))\n",
    "\n",
    "plt.plot(usa_gold_medal_count_per_year['Year'], usa_gold_medal_count_per_year['Gold Medals'], color='blue', label='USA Historical Data')\n",
    "plt.plot(future_usa_df['Year'], future_usa_df['Predicted Gold Medals (USA)'], color='blue', linestyle='--', label='USA Predictions')\n",
    "\n",
    "# Plot historical data and predictions for China\n",
    "plt.plot(china_gold_medal_count_per_year['Year'], china_gold_medal_count_per_year['Gold Medals'], color='red', label='China Historical Data')\n",
    "plt.plot(future_china_df['Year'], future_china_df['Predicted Gold Medals (China)'], color='red', linestyle='--', label='China Predictions')\n",
    "\n",
    "plt.xlabel('Year')\n",
    "plt.ylabel('Number of Gold Medals')\n",
    "plt.title('Gold Medals Predictions for USA and China')\n",
    "plt.legend()\n",
    "plt.grid(True)\n",
    "plt.show()\n"
   ],
   "id": "48019caa637db21d",
   "outputs": [
    {
     "data": {
      "text/plain": [
       "<Figure size 1400x700 with 1 Axes>"
      ],
      "image/png": "[encoded data removed]"
     },
     "metadata": {},
     "output_type": "display_data"
    }
   ],
   "execution_count": 200
  },
  {
   "metadata": {
    "ExecuteTime": {
     "end_time": "2024-08-18T15:15:03.304150Z",
     "start_time": "2024-08-18T15:15:03.297572Z"
    }
   },
   "cell_type": "code",
   "source": [
    "# 3 - Summary - Comparing the numbers between Manual Implement and SKLearn\n",
    "# 3.1 - Compare for USA and China between 2 implementations for 2030\n",
    "print(f'USA - From manual implementation: {usa_2030_prediction_manual_impl}')\n",
    "print(f'USA - From SKLearn implementation: {usa_2030_prediction_sklearn}')\n",
    "\n",
    "print(f'China - From manual implementation: {china_2030_prediction_manual_impl}')\n",
    "print(f'China - From SKLearn implementation: {china_2030_prediction_sklearn}')"
   ],
   "id": "fec847377c5d4542",
   "outputs": [
    {
     "name": "stdout",
     "output_type": "stream",
     "text": [
      "USA - From manual implementation: 49\n",
      "USA - From SKLearn implementation: 45\n",
      "China - From manual implementation: 61\n",
      "China - From SKLearn implementation: 46\n"
     ]
    }
   ],
   "execution_count": 201
  },
  {
   "metadata": {
    "ExecuteTime": {
     "end_time": "2024-08-18T15:15:03.440960Z",
     "start_time": "2024-08-18T15:15:03.437514Z"
    }
   },
   "cell_type": "code",
   "source": "",
   "id": "287dd16a1a27780d",
   "outputs": [],
   "execution_count": null
  }
 ],
 "metadata": {
  "kernelspec": {
   "display_name": "Python 3",
   "language": "python",
   "name": "python3"
  },
  "language_info": {
   "codemirror_mode": {
    "name": "ipython",
    "version": 2
   },
   "file_extension": ".py",
   "mimetype": "text/x-python",
   "name": "python",
   "nbconvert_exporter": "python",
   "pygments_lexer": "ipython2",
   "version": "2.7.6"
  }
 },
 "nbformat": 4,
 "nbformat_minor": 5
}
